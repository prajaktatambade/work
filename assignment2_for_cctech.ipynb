{
 "cells": [
  {
   "cell_type": "code",
   "execution_count": 1,
   "metadata": {},
   "outputs": [],
   "source": [
    "import matplotlib.pyplot as plt\n",
    "def plot(BuildingsCoordinates):\n",
    "    index = [0, 1, 2, 3, 0]\n",
    "    for building in BuildingsCoordinates:\n",
    "        x = []\n",
    "        y = []\n",
    "        for i in range(len(index)):\n",
    "            x.append(building[index[i]][0])\n",
    "            y.append(building[index[i]][1])\n",
    "        plt.plot(x, y, label=\"g\", c = 'b')\n",
    "        plt.scatter(S[0], S[1], c = 'r')\n",
    "    plt.show()"
   ]
  },
  {
   "cell_type": "code",
   "execution_count": 2,
   "metadata": {},
   "outputs": [],
   "source": [
    "# Function to get point of intersection of two lines\n",
    "def line_intersection(line1, line2):\n",
    "    xdiff = (line1[0][0] - line1[1][0], line2[0][0] - line2[1][0])\n",
    "    ydiff = (line1[0][1] - line1[1][1], line2[0][1] - line2[1][1])\n",
    "\n",
    "    def det(a, b):\n",
    "        return a[0] * b[1] - a[1] * b[0]\n",
    "\n",
    "    div = det(xdiff, ydiff)\n",
    "    if div == 0:\n",
    "        return \"False\", \"False\"\n",
    "\n",
    "    d = (det(*line1), det(*line2))\n",
    "    x = det(d, xdiff) / div\n",
    "    y = det(d, ydiff) / div\n",
    "    return x, y\n",
    "\n",
    "# Function to check the input list of Building Coordinates whether smallest building cordinates is first or tallest\n",
    "def CheckIncreasing(BuildingsCoordinates):\n",
    "    if len(BuildingsCoordinates) > 1:\n",
    "        y1 = BuildingsCoordinates[0][0][1]\n",
    "        y2 = BuildingsCoordinates[1][0][1]\n",
    "        for i in range(2):\n",
    "            for j in range(4):\n",
    "                if y1 < BuildingsCoordinates[i][j][1] and i == 0:\n",
    "                    y1 = BuildingsCoordinates[i][j][1]\n",
    "                if y2 < BuildingsCoordinates[i][j][1] and i == 1:\n",
    "                    y2 = BuildingsCoordinates[i][j][1]\n",
    "        if y1 > y2:\n",
    "            return \"False\"\n",
    "        elif y1 < y2:\n",
    "            return \"True\"\n",
    "    else:\n",
    "        return \"True\"\n",
    "\n",
    "# Function to modify the list of Building Coordinates according to code written\n",
    "def ModifyBuildingsCoordinates(BC):\n",
    "    status = CheckIncreasing(BC)\n",
    "    modi_cor = []\n",
    "    if status == \"True\":\n",
    "        for i in range(len(BC)):\n",
    "            modi_cor.append([BC[i][1], BC[i][0], BC[i][3], BC[i][2]])\n",
    "    else:\n",
    "        for i in range(len(BC)):\n",
    "            j = len(BC) - i - 1\n",
    "            modi_cor.append([BC[j][1], BC[j][0], BC[j][3], BC[j][2]])    \n",
    "    return modi_cor\n",
    "\n",
    "# Function to calculate suface of buildings exposed to sun light\n",
    "def CalculateSurface(BuildingsCoordinates):\n",
    "    ModifyCordinates = ModifyBuildingsCoordinates(BuildingsCoordinates)\n",
    "    length = 0\n",
    "    for i in range(len(ModifyCordinates)):\n",
    "        for j in range(3):\n",
    "            if ModifyCordinates[i][j][1] < ModifyCordinates[i][j+1][1]:\n",
    "                length += ModifyCordinates[i][j+1][1] - ModifyCordinates[i][j][1]\n",
    "            elif ModifyCordinates[i][j][0] < ModifyCordinates[i][j+1][0]:\n",
    "                length += ModifyCordinates[i][j+1][0] - ModifyCordinates[i][j][0]\n",
    "            else:\n",
    "                if i+1 < len(ModifyCordinates): \n",
    "                    line1 = [S, ModifyCordinates[i][j]]\n",
    "                    line2 = [ModifyCordinates[i+1][0], ModifyCordinates[i+1][1]]\n",
    "                    x, y = line_intersection(line1, line2)\n",
    "                    if y > ModifyCordinates[i+1][0][1] and y < ModifyCordinates[i+1][1][1]:\n",
    "                        ModifyCordinates[i+1][0] = [x, y]\n",
    "                    \n",
    "    return length"
   ]
  },
  {
   "cell_type": "code",
   "execution_count": 3,
   "metadata": {},
   "outputs": [
    {
     "name": "stdout",
     "output_type": "stream",
     "text": [
      "Input\n",
      "BuildingsCoordinates: [[[4, 0], [4, -5], [7, -5], [7, 0]]]\n",
      "S: [-3.5, 1]\n",
      "\n",
      "Output: 8\n"
     ]
    },
    {
     "data": {
      "image/png": "[encoded data removed]",
      "text/plain": [
       "<Figure size 432x288 with 1 Axes>"
      ]
     },
     "metadata": {
      "needs_background": "light"
     },
     "output_type": "display_data"
    }
   ],
   "source": [
    "BuildingsCoordinates = [[[4, 0], [4, -5], [7, -5], [7, 0]]]\n",
    "S = [-3.5, 1]\n",
    "print(\"Input\")\n",
    "print(\"BuildingsCoordinates:\",BuildingsCoordinates)\n",
    "print(\"S:\", S)\n",
    "print()\n",
    "print(\"Output:\",CalculateSurface(BuildingsCoordinates))\n",
    "plot(BuildingsCoordinates)"
   ]
  },
  {
   "cell_type": "code",
   "execution_count": 4,
   "metadata": {},
   "outputs": [
    {
     "name": "stdout",
     "output_type": "stream",
     "text": [
      "Input\n",
      "BuildingsCoordinates: [[[4, 0], [4, -5], [7, -5], [7, 0]], [[0.4, -2], [0.4, -5], [2.5, -5], [2.5, -2]]]\n",
      "S: [-3.5, 1]\n",
      "\n",
      "Output: 10.85\n"
     ]
    },
    {
     "data": {
      "image/png": "[encoded data removed]",
      "text/plain": [
       "<Figure size 432x288 with 1 Axes>"
      ]
     },
     "metadata": {
      "needs_background": "light"
     },
     "output_type": "display_data"
    }
   ],
   "source": [
    "BuildingsCoordinates = [[[4, 0], [4, -5], [7, -5], [7, 0]], [[0.4, -2], [0.4, -5], [2.5, -5], [2.5, -2]]]\n",
    "S = [-3.5, 1]\n",
    "print(\"Input\")\n",
    "print(\"BuildingsCoordinates:\",BuildingsCoordinates)\n",
    "print(\"S:\", S)\n",
    "print()\n",
    "print(\"Output:\",CalculateSurface(BuildingsCoordinates))\n",
    "plot(BuildingsCoordinates)"
   ]
  },
  {
   "cell_type": "code",
   "execution_count": 5,
   "metadata": {},
   "outputs": [
    {
     "name": "stdout",
     "output_type": "stream",
     "text": [
      "Input\n",
      "BuildingsCoordinates: [[[4, 0], [4, -5], [7, -5], [7, 0]], [[0.4, -2], [0.4, -5], [2.5, -5], [2.5, -2]], [[-2, -3], [-2, -5], [-0.5, -5], [-0.5, -3]]]\n",
      "S: [-3.5, 1]\n",
      "\n",
      "Output: 13.549999999999999\n"
     ]
    },
    {
     "data": {
      "image/png": "[encoded data removed]",
      "text/plain": [
       "<Figure size 432x288 with 1 Axes>"
      ]
     },
     "metadata": {
      "needs_background": "light"
     },
     "output_type": "display_data"
    }
   ],
   "source": [
    "BuildingsCoordinates = [[[4, 0], [4, -5], [7, -5], [7, 0]], [[0.4, -2], [0.4, -5], [2.5, -5], [2.5, -2]], [[-2, -3], [-2, -5], [-0.5, -5], [-0.5, -3]]]\n",
    "S = [-3.5, 1]\n",
    "print(\"Input\")\n",
    "print(\"BuildingsCoordinates:\",BuildingsCoordinates)\n",
    "print(\"S:\", S)\n",
    "print()\n",
    "print(\"Output:\",CalculateSurface(BuildingsCoordinates))\n",
    "plot(BuildingsCoordinates)"
   ]
  },
  {
   "cell_type": "code",
   "execution_count": null,
   "metadata": {},
   "outputs": [],
   "source": []
  }
 ],
 "metadata": {
  "kernelspec": {
   "display_name": "Python 3",
   "language": "python",
   "name": "python3"
  },
  "language_info": {
   "codemirror_mode": {
    "name": "ipython",
    "version": 3
   },
   "file_extension": ".py",
   "mimetype": "text/x-python",
   "name": "python",
   "nbconvert_exporter": "python",
   "pygments_lexer": "ipython3",
   "version": "3.7.4"
  }
 },
 "nbformat": 4,
 "nbformat_minor": 2
}
